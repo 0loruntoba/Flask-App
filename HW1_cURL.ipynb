{
  "cells": [
    {
      "cell_type": "code",
      "execution_count": null,
      "metadata": {
        "colab": {
          "base_uri": "https://localhost:8080/"
        },
        "id": "TsgPWApci1fj",
        "outputId": "dcedbe98-7328-426c-fd21-6dd10fa13eee"
      },
      "outputs": [
        {
          "output_type": "stream",
          "name": "stdout",
          "text": [
            "Requirement already satisfied: flask in /usr/local/lib/python3.10/dist-packages (3.0.3)\n",
            "Collecting pyngrok\n",
            "  Downloading pyngrok-7.2.1-py3-none-any.whl.metadata (8.3 kB)\n",
            "Requirement already satisfied: Werkzeug>=3.0.0 in /usr/local/lib/python3.10/dist-packages (from flask) (3.1.3)\n",
            "Requirement already satisfied: Jinja2>=3.1.2 in /usr/local/lib/python3.10/dist-packages (from flask) (3.1.4)\n",
            "Requirement already satisfied: itsdangerous>=2.1.2 in /usr/local/lib/python3.10/dist-packages (from flask) (2.2.0)\n",
            "Requirement already satisfied: click>=8.1.3 in /usr/local/lib/python3.10/dist-packages (from flask) (8.1.7)\n",
            "Requirement already satisfied: blinker>=1.6.2 in /usr/local/lib/python3.10/dist-packages (from flask) (1.9.0)\n",
            "Requirement already satisfied: PyYAML>=5.1 in /usr/local/lib/python3.10/dist-packages (from pyngrok) (6.0.2)\n",
            "Requirement already satisfied: MarkupSafe>=2.0 in /usr/local/lib/python3.10/dist-packages (from Jinja2>=3.1.2->flask) (3.0.2)\n",
            "Downloading pyngrok-7.2.1-py3-none-any.whl (22 kB)\n",
            "Installing collected packages: pyngrok\n",
            "Successfully installed pyngrok-7.2.1\n",
            "Authtoken saved to configuration file: /root/.config/ngrok/ngrok.yml\n"
          ]
        }
      ],
      "source": [
        "#install necessary dependencies\n",
        "!pip install flask pyngrok --quiet\n",
        "\n",
        "#ngrok authentication token\n",
        "!./ngrok config add-authtoken 2q1QOym4phRHlm9QPGJuJfBY1zo_ye63SKnsh7bsNN6xFMBB"
      ]
    },
    {
      "cell_type": "code",
      "execution_count": null,
      "metadata": {
        "id": "Ot8OxTh8A1dq"
      },
      "outputs": [],
      "source": [
        "#import required libraries\n",
        "from flask import Flask, request, jsonify\n",
        "from pyngrok import ngrok\n",
        "import os"
      ]
    },
    {
      "cell_type": "code",
      "execution_count": null,
      "metadata": {
        "id": "O---_UzLOBlh"
      },
      "outputs": [],
      "source": [
        "#initiate the flask app\n",
        "app = Flask(__name__)"
      ]
    },
    {
      "cell_type": "code",
      "execution_count": null,
      "metadata": {
        "id": "SlsESXuMOKHd"
      },
      "outputs": [],
      "source": [
        "#file to store user profiles\n",
        "users_file = \"user_profiles.txt\"\n",
        "\n",
        "#initialise the text file if it doesn't exist\n",
        "if not os.path.exists(users_file):\n",
        "    open(users_file, 'w').close()"
      ]
    },
    {
      "cell_type": "code",
      "execution_count": null,
      "metadata": {
        "id": "ocZ2mGMcUp3R"
      },
      "outputs": [],
      "source": [
        "#root route\n",
        "@app.route('/')\n",
        "def index():\n",
        "    return \"Welcome to the User Profile App\""
      ]
    },
    {
      "cell_type": "code",
      "execution_count": null,
      "metadata": {
        "id": "Y-WAcLrMPuDo"
      },
      "outputs": [],
      "source": [
        "#helper functions to load, save and update user data\n",
        "def load_users():\n",
        "    users = {}\n",
        "    with open(users_file, 'r') as f:\n",
        "        for line in f:\n",
        "            email, age = line.strip().split(',')\n",
        "            users[email] = {'email': email, 'age': age}\n",
        "    return users\n",
        "\n",
        "def save_user(email, age):\n",
        "    with open(users_file, 'a') as f:\n",
        "        f.write(f\"{email},{age}\\n\")\n",
        "\n",
        "def update_users(users):\n",
        "    with open(users_file, 'w') as f:\n",
        "        for email, data in users.items():\n",
        "            f.write(f\"{email},{data['age']}\\n\")"
      ]
    },
    {
      "cell_type": "code",
      "execution_count": null,
      "metadata": {
        "id": "Um81cD1oUtG1"
      },
      "outputs": [],
      "source": [
        "#routes for user management\n",
        "@app.route('/add_user', methods=['POST'])\n",
        "def add_user():\n",
        "    data = request.get_json()\n",
        "    email = data.get('email')\n",
        "    age = data.get('age')\n",
        "    if not email or not age:\n",
        "        return jsonify({\"error\": \"Email and age are required.\"}), 400\n",
        "    users = load_users()\n",
        "    if email in users:\n",
        "        return jsonify({\"error\": \"User already exists.\"}), 400\n",
        "    save_user(email, age)\n",
        "    return jsonify({\"message\": \"User added successfully.\"}), 201\n",
        "\n",
        "@app.route('/get_user/<email>', methods=['GET'])\n",
        "def get_user(email):\n",
        "    users = load_users()\n",
        "    if email not in users:\n",
        "        return jsonify({\"error\": \"User not found.\"}), 404\n",
        "    return jsonify(users[email]), 200\n",
        "\n",
        "@app.route('/update_user/<email>', methods=['PUT'])\n",
        "def update_user(email):\n",
        "    data = request.get_json()\n",
        "    users = load_users()\n",
        "    if email not in users:\n",
        "        return jsonify({\"error\": \"User not found.\"}), 404\n",
        "    if 'age' in data:\n",
        "        users[email]['age'] = data['age']\n",
        "    update_users(users)\n",
        "    return jsonify({\"message\": \"User updated successfully.\"}), 200\n",
        "\n",
        "@app.route('/delete_user/<email>', methods=['DELETE'])\n",
        "def delete_user(email):\n",
        "    users = load_users()\n",
        "    if email not in users:\n",
        "        return jsonify({\"error\": \"User not found.\"}), 404\n",
        "    del users[email]\n",
        "    update_users(users)\n",
        "    return jsonify({\"message\": \"User deleted successfully.\"}), 200"
      ]
    },
    {
      "cell_type": "code",
      "execution_count": null,
      "metadata": {
        "colab": {
          "base_uri": "https://localhost:8080/"
        },
        "id": "pbHYvmD7U_9Z",
        "outputId": "ca185828-cd47-44c5-9848-8c04e963f090"
      },
      "outputs": [
        {
          "metadata": {
            "tags": null
          },
          "name": "stdout",
          "output_type": "stream",
          "text": [
            "Starting Flask App...\n",
            "App is running and publicly accessible at NgrokTunnel: \"https://7917-35-185-65-225.ngrok-free.app\" -> \"http://localhost:5000\"\n",
            " * Serving Flask app '__main__'\n",
            " * Debug mode: off\n"
          ]
        },
        {
          "metadata": {
            "tags": null
          },
          "name": "stderr",
          "output_type": "stream",
          "text": [
            "INFO:werkzeug:\u001b[31m\u001b[1mWARNING: This is a development server. Do not use it in a production deployment. Use a production WSGI server instead.\u001b[0m\n",
            " * Running on http://127.0.0.1:5000\n",
            "INFO:werkzeug:\u001b[33mPress CTRL+C to quit\u001b[0m\n",
            "INFO:werkzeug:127.0.0.1 - - [11/Dec/2024 08:22:16] \"GET / HTTP/1.1\" 200 -\n",
            "INFO:werkzeug:127.0.0.1 - - [11/Dec/2024 08:22:17] \"\u001b[33mGET /favicon.ico HTTP/1.1\u001b[0m\" 404 -\n",
            "INFO:werkzeug:127.0.0.1 - - [11/Dec/2024 08:24:01] \"GET / HTTP/1.1\" 200 -\n",
            "INFO:werkzeug:127.0.0.1 - - [11/Dec/2024 08:32:50] \"\u001b[35m\u001b[1mPOST /add_user HTTP/1.1\u001b[0m\" 201 -\n",
            "INFO:werkzeug:127.0.0.1 - - [11/Dec/2024 08:34:22] \"\u001b[35m\u001b[1mPOST /add_user HTTP/1.1\u001b[0m\" 201 -\n",
            "INFO:werkzeug:127.0.0.1 - - [11/Dec/2024 08:36:26] \"GET /get_user/john@doe.com HTTP/1.1\" 200 -\n",
            "INFO:werkzeug:127.0.0.1 - - [11/Dec/2024 08:38:47] \"PUT /update_user/john@doe.com HTTP/1.1\" 200 -\n",
            "INFO:werkzeug:127.0.0.1 - - [11/Dec/2024 08:39:51] \"DELETE /delete_user/martha@smith.ru HTTP/1.1\" 200 -\n"
          ]
        }
      ],
      "source": [
        "#starting the flask app\n",
        "if __name__ == '__main__':\n",
        "    print(\"Starting Flask App...\")\n",
        "\n",
        "    #starting ngrok tunnel to expose the flask app publicly\n",
        "    public_url = ngrok.connect(5000)\n",
        "    print(f\"App is running and publicly accessible at {public_url}\")\n",
        "\n",
        "    #run the flask app\n",
        "    app.run(port=5000)"
      ]
    }
  ],
  "metadata": {
    "colab": {
      "provenance": []
    },
    "kernelspec": {
      "display_name": "Python 3",
      "name": "python3"
    },
    "language_info": {
      "name": "python"
    }
  },
  "nbformat": 4,
  "nbformat_minor": 0
}