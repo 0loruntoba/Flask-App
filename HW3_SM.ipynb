{
  "cells": [
    {
      "cell_type": "code",
      "execution_count": null,
      "metadata": {
        "colab": {
          "base_uri": "https://localhost:8080/"
        },
        "id": "2LBJC7UYawU6",
        "outputId": "6977bb25-80bb-4bdb-f215-2bf4ef0b13ed"
      },
      "outputs": [
        {
          "name": "stdout",
          "output_type": "stream",
          "text": [
            "ngrok\n",
            "Authtoken saved to configuration file: /root/.config/ngrok/ngrok.yml\n"
          ]
        }
      ],
      "source": [
        "#install necessary dependencies\n",
        "!pip install flask pyngrok requests --quiet\n",
        "\n",
        "#setting up ngrok authentication\n",
        "!wget https://bin.equinox.io/c/bNyj1mQVY4c/ngrok-v3-stable-linux-amd64.tgz --quiet\n",
        "!tar -xvzf ngrok-v3-stable-linux-amd64.tgz\n",
        "!./ngrok config add-authtoken 2q1QOym4phRHlm9QPGJuJfBY1zo_ye63SKnsh7bsNN6xFMBB"
      ]
    },
    {
      "cell_type": "code",
      "execution_count": null,
      "metadata": {
        "id": "ihothx8MZhW7"
      },
      "outputs": [],
      "source": [
        "#import required libraries\n",
        "from flask import Flask, request, jsonify\n",
        "from pyngrok import ngrok\n",
        "from cryptography.fernet import Fernet"
      ]
    },
    {
      "cell_type": "code",
      "execution_count": null,
      "metadata": {
        "id": "lsQx6yNGZoj1"
      },
      "outputs": [],
      "source": [
        "#initiate the flask app\n",
        "app = Flask(__name__)\n",
        "\n",
        "#root route\n",
        "@app.route(\"/\")\n",
        "def home():\n",
        "    return \"Secure Messenger is live!\""
      ]
    },
    {
      "cell_type": "code",
      "execution_count": null,
      "metadata": {
        "id": "cUJ_Xth8ZqW2"
      },
      "outputs": [],
      "source": [
        "#secret key generation\n",
        "SECRET_KEY = Fernet.generate_key()\n",
        "cipher = Fernet(SECRET_KEY)"
      ]
    },
    {
      "cell_type": "code",
      "execution_count": null,
      "metadata": {
        "id": "nleZMVODZte4"
      },
      "outputs": [],
      "source": [
        "#message storing in memory\n",
        "stored_message = None"
      ]
    },
    {
      "cell_type": "code",
      "execution_count": null,
      "metadata": {
        "id": "3k2YvroUZvsp"
      },
      "outputs": [],
      "source": [
        "#sending message\n",
        "@app.route('/send_message', methods=['POST'])\n",
        "def send_message():\n",
        "    global stored_message\n",
        "    data = request.json\n",
        "    if 'message' not in data:\n",
        "        return jsonify({\"error\": \"Message field is required\"}), 400\n",
        "\n",
        "    #message encryption\n",
        "    encrypted_message = cipher.encrypt(data['message'].encode())\n",
        "    stored_message = encrypted_message\n",
        "    return jsonify({\"message\": \"Message encrypted and stored successfully\"}), 200"
      ]
    },
    {
      "cell_type": "code",
      "execution_count": null,
      "metadata": {
        "id": "4Ba_nDM9ZwKX"
      },
      "outputs": [],
      "source": [
        "#receiving message\n",
        "@app.route('/get_message', methods=['GET'])\n",
        "def get_message():\n",
        "    global stored_message\n",
        "    if not stored_message:\n",
        "        return jsonify({\"error\": \"No message found\"}), 404\n",
        "\n",
        "    #message decryption\n",
        "    decrypted_message = cipher.decrypt(stored_message).decode()\n",
        "    return jsonify({\"message\": decrypted_message}), 200"
      ]
    },
    {
      "cell_type": "code",
      "execution_count": null,
      "metadata": {
        "colab": {
          "background_save": true,
          "base_uri": "https://localhost:8080/"
        },
        "id": "0Ptd40XvZy--",
        "outputId": "f527d4cf-869c-41eb-d9a2-b8354425531c"
      },
      "outputs": [
        {
          "name": "stdout",
          "output_type": "stream",
          "text": [
            "Public URL: https://4b35-34-83-95-99.ngrok-free.app\n",
            " * Serving Flask app '__main__'\n",
            " * Debug mode: off\n"
          ]
        },
        {
          "name": "stderr",
          "output_type": "stream",
          "text": [
            "INFO:werkzeug:\u001b[31m\u001b[1mWARNING: This is a development server. Do not use it in a production deployment. Use a production WSGI server instead.\u001b[0m\n",
            " * Running on http://127.0.0.1:5000\n",
            "INFO:werkzeug:\u001b[33mPress CTRL+C to quit\u001b[0m\n",
            "INFO:werkzeug:127.0.0.1 - - [12/Dec/2024 20:01:37] \"GET / HTTP/1.1\" 200 -\n",
            "INFO:werkzeug:127.0.0.1 - - [12/Dec/2024 20:01:37] \"\u001b[33mGET /favicon.ico HTTP/1.1\u001b[0m\" 404 -\n",
            "INFO:werkzeug:127.0.0.1 - - [12/Dec/2024 20:02:38] \"\u001b[31m\u001b[1mPOST / HTTP/1.1\u001b[0m\" 405 -\n",
            "INFO:werkzeug:127.0.0.1 - - [12/Dec/2024 20:03:26] \"POST /send_message HTTP/1.1\" 200 -\n",
            "INFO:werkzeug:127.0.0.1 - - [12/Dec/2024 20:04:00] \"GET /get_message HTTP/1.1\" 200 -\n",
            "WARNING:pyngrok.process.ngrok:t=2024-12-12T20:46:30+0000 lvl=warn msg=\"Stopping forwarder\" name=http-5000-8fa358b1-3590-422a-8c5c-d3cd4bd1d686 acceptErr=\"failed to accept connection: Listener closed\"\n",
            "WARNING:pyngrok.process.ngrok:t=2024-12-12T20:46:30+0000 lvl=warn msg=\"Error restarting forwarder\" name=http-5000-8fa358b1-3590-422a-8c5c-d3cd4bd1d686 err=\"failed to start tunnel: session closed\"\n"
          ]
        }
      ],
      "source": [
        "#opening public url using ngrok\n",
        "if __name__ == \"__main__\":\n",
        "    public_url = ngrok.connect(5000).public_url\n",
        "    print(f\"Public URL: {public_url}\")\n",
        "    app.run()"
      ]
    }
  ],
  "metadata": {
    "colab": {
      "provenance": []
    },
    "kernelspec": {
      "display_name": "Python 3",
      "name": "python3"
    },
    "language_info": {
      "name": "python"
    }
  },
  "nbformat": 4,
  "nbformat_minor": 0
}