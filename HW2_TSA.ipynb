{
  "nbformat": 4,
  "nbformat_minor": 0,
  "metadata": {
    "colab": {
      "provenance": []
    },
    "kernelspec": {
      "name": "python3",
      "display_name": "Python 3"
    },
    "language_info": {
      "name": "python"
    }
  },
  "cells": [
    {
      "cell_type": "code",
      "execution_count": null,
      "metadata": {
        "colab": {
          "base_uri": "https://localhost:8080/"
        },
        "id": "rPjmssk5qdCW",
        "outputId": "3bf7a475-eccb-4e2a-bd3f-7fff132e0f09"
      },
      "outputs": [
        {
          "output_type": "stream",
          "name": "stdout",
          "text": [
            "ngrok\n",
            "Authtoken saved to configuration file: /root/.config/ngrok/ngrok.yml\n"
          ]
        }
      ],
      "source": [
        "#install necessary dependencies\n",
        "!pip install flask pyngrok requests --quiet\n",
        "\n",
        "#setting up ngrok authentication\n",
        "!wget https://bin.equinox.io/c/bNyj1mQVY4c/ngrok-v3-stable-linux-amd64.tgz --quiet\n",
        "!tar -xvzf ngrok-v3-stable-linux-amd64.tgz\n",
        "!./ngrok config add-authtoken 2q1QOym4phRHlm9QPGJuJfBY1zo_ye63SKnsh7bsNN6xFMBB"
      ]
    },
    {
      "cell_type": "code",
      "source": [
        "#import required libraries\n",
        "from flask import Flask, request, jsonify, render_template, redirect, url_for\n",
        "from pyngrok import ngrok\n",
        "import os\n",
        "import requests\n",
        "from google.colab import drive\n",
        "import logging\n",
        "\n",
        "#enabling debugging logs\n",
        "logging.basicConfig(level=logging.DEBUG)"
      ],
      "metadata": {
        "id": "BTWhfUsKqozH"
      },
      "execution_count": null,
      "outputs": []
    },
    {
      "cell_type": "code",
      "source": [
        "#mount Google Drive\n",
        "drive.mount('/content/drive')\n",
        "users_file = \"user_profiles.txt\"\n",
        "template_folder = \"/content/drive/MyDrive/FlaskApp/templates\"\n",
        "\n",
        "#initialise the text file if it doesn't exist\n",
        "if not os.path.exists(users_file):\n",
        "    open(users_file, 'w').close()"
      ],
      "metadata": {
        "colab": {
          "base_uri": "https://localhost:8080/"
        },
        "id": "p1vCqziWqqcz",
        "outputId": "f0bba29b-d55b-459b-f2a3-1575060a92b2"
      },
      "execution_count": null,
      "outputs": [
        {
          "output_type": "stream",
          "name": "stdout",
          "text": [
            "Mounted at /content/drive\n"
          ]
        }
      ]
    },
    {
      "cell_type": "code",
      "source": [
        "#server 1 (Database Server)\n",
        "server1 = Flask(__name__)\n",
        "\n",
        "#helper functions to load, save and update user data\n",
        "def load_users():\n",
        "    \"\"\"Load user profiles from file.\"\"\"\n",
        "    users = {}\n",
        "    with open(users_file, 'r') as f:\n",
        "        for line in f:\n",
        "            email, age = line.strip().split(',')\n",
        "            users[email] = {'email': email, 'age': age}\n",
        "    return users\n",
        "\n",
        "def save_user(email, age):\n",
        "    \"\"\"Save a user profile.\"\"\"\n",
        "    with open(users_file, 'a') as f:\n",
        "        f.write(f\"{email},{age}\\n\")\n",
        "\n",
        "def update_users(users):\n",
        "    \"\"\"Update all user profiles.\"\"\"\n",
        "    with open(users_file, 'w') as f:\n",
        "        for email, data in users.items():\n",
        "            f.write(f\"{email},{data['age']}\\n\")"
      ],
      "metadata": {
        "id": "kEm_FZZ2rBw6"
      },
      "execution_count": null,
      "outputs": []
    },
    {
      "cell_type": "code",
      "source": [
        "#route for server 1\n",
        "@server1.route('/')\n",
        "def server1_index():\n",
        "    return \"Welcome to the User Profile Database Server\"\n",
        "\n",
        "#routes for user management\n",
        "@server1.route('/add_user', methods=['POST'])\n",
        "def add_user():\n",
        "    data = request.get_json()\n",
        "    email = data.get('email')\n",
        "    age = data.get('age')\n",
        "    if not email or not age:\n",
        "        return jsonify({\"error\": \"Email and age are required!\"}), 400\n",
        "    users = load_users()\n",
        "    if email in users:\n",
        "        return jsonify({\"error\": \"User already exists!\"}), 400\n",
        "    save_user(email, age)\n",
        "    return jsonify({\"message\": \"User added successfully!\"}), 201\n",
        "\n",
        "@server1.route('/get_user/<email>', methods=['GET'])\n",
        "def get_user(email):\n",
        "    users = load_users()\n",
        "    if email not in users:\n",
        "        return jsonify({\"error\": \"User not found!\"}), 404\n",
        "    return jsonify(users[email]), 200\n",
        "\n",
        "@server1.route('/update_user/<email>', methods=['PUT'])\n",
        "def update_user(email):\n",
        "    data = request.get_json()\n",
        "    users = load_users()\n",
        "    if email not in users:\n",
        "        return jsonify({\"error\": \"User not found!\"}), 404\n",
        "    if 'age' in data:\n",
        "        users[email]['age'] = data['age']\n",
        "    update_users(users)\n",
        "    return jsonify({\"message\": \"User updated successfully!\"}), 200\n",
        "\n",
        "@server1.route('/delete_user/<email>', methods=['DELETE'])\n",
        "def delete_user(email):\n",
        "    users = load_users()\n",
        "    if email not in users:\n",
        "        return jsonify({\"error\": \"User not found!\"}), 404\n",
        "    del users[email]\n",
        "    update_users(users)\n",
        "    return jsonify({\"message\": \"User deleted successfully!\"}), 200"
      ],
      "metadata": {
        "id": "zBbBw4bVrMXh"
      },
      "execution_count": null,
      "outputs": []
    },
    {
      "cell_type": "code",
      "source": [
        "#starting server 1 with ngrok\n",
        "public_url_server1 = ngrok.connect(5000).public_url\n",
        "print(f\"Server 1 is running at {public_url_server1}\")\n",
        "server1_port = 5000\n",
        "\n",
        "import threading\n",
        "server1_thread = threading.Thread(target=server1.run, kwargs={\"port\": server1_port, \"debug\": True, \"use_reloader\": False})\n",
        "server1_thread.start()"
      ],
      "metadata": {
        "colab": {
          "base_uri": "https://localhost:8080/"
        },
        "id": "LhD6lbParYJu",
        "outputId": "2ea1db4a-3ff3-4488-c11e-dd99b6d11735"
      },
      "execution_count": null,
      "outputs": [
        {
          "output_type": "stream",
          "name": "stdout",
          "text": [
            "Server 1 is running at https://335d-34-139-171-33.ngrok-free.app\n",
            " * Serving Flask app '__main__'\n",
            " * Debug mode: on\n"
          ]
        }
      ]
    },
    {
      "cell_type": "code",
      "source": [
        "#server 2 (web UI server)\n",
        "server2 = Flask(__name__, template_folder=template_folder)"
      ],
      "metadata": {
        "collapsed": true,
        "id": "4Yj6sZsPraHu"
      },
      "execution_count": null,
      "outputs": []
    },
    {
      "cell_type": "code",
      "source": [
        "@server2.route('/')\n",
        "def index():\n",
        "    return render_template('index.html')\n",
        "\n",
        "@server2.route('/add_user', methods=['POST'])\n",
        "def server2_add_user():\n",
        "    email = request.form['email']\n",
        "    age = request.form['age']\n",
        "    data = {'email': email, 'age': age}\n",
        "\n",
        "    #forward request to server 1\n",
        "    try:\n",
        "        response = requests.post(f\"{public_url_server1}/add_user\", json=data)\n",
        "        if response.status_code == 201:\n",
        "            return redirect(url_for('index'))\n",
        "        return f\"Error: {response.json()['error']}\", 400\n",
        "    except requests.exceptions.InvalidSchema as e:\n",
        "        print(f\"Invalid Schema Error: {e}\")\n",
        "        return f\"Error: Invalid URL schema used for request.\", 500\n",
        "\n",
        "@server2.route('/get_user/<email>', methods=['GET'])\n",
        "def server2_get_user(email):\n",
        "    response = requests.get(f\"{public_url_server1}/get_user/{email}\")\n",
        "    if response.status_code == 200:\n",
        "        user = response.json()\n",
        "        return render_template('user.html', user=user)\n",
        "    return \"User not found\", 404"
      ],
      "metadata": {
        "collapsed": true,
        "id": "9fxCsRSlrg1_"
      },
      "execution_count": null,
      "outputs": []
    },
    {
      "cell_type": "code",
      "source": [
        "#starting server 1 with ngrok\n",
        "public_url_server2 = ngrok.connect(5001).public_url\n",
        "print(f\"Server 2 is running at {public_url_server2}\")\n",
        "server2_port = 5001\n",
        "\n",
        "server2_thread = threading.Thread(target=server2.run, kwargs={\"port\": server2_port, \"debug\": True, \"use_reloader\": False})\n",
        "server2_thread.start()"
      ],
      "metadata": {
        "colab": {
          "base_uri": "https://localhost:8080/"
        },
        "id": "vRZqPx33rirM",
        "outputId": "86a718b3-74d7-45d8-ade5-ef9652cacb6a"
      },
      "execution_count": null,
      "outputs": [
        {
          "output_type": "stream",
          "name": "stdout",
          "text": [
            "Server 2 is running at https://c6a6-34-139-171-33.ngrok-free.app\n",
            " * Serving Flask app '__main__'\n"
          ]
        }
      ]
    }
  ]
}